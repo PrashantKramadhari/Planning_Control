{
 "cells": [
  {
   "cell_type": "markdown",
   "metadata": {},
   "source": [
    "# TSFS12 Hand-in exercise 5: Learning for autonomous vehicles - Gaussian Processes"
   ]
  },
  {
   "cell_type": "markdown",
   "metadata": {},
   "source": [
    "This exercise is based on data from the I-80 data set from the U.S. Department of Transportation. The data can be downloaded from the course directory in \n",
    "Lisam, and are available in the directory /courses/tsfs12/i80_data in the student labs at campus. \n",
    "\n",
    "I-80 data set citation: U.S. Department of Transportation Federal Highway Administration. (2016). Next Generation Simulation (NGSIM) Vehicle\n",
    "Trajectories and Supporting Data. [Dataset]. Provided by ITS DataHub through Data.transportation.gov. Accessed 2020-09-29 from http://doi.org/10.21949/1504477. More details about the data set are \n",
    "available through this link.  "
   ]
  },
  {
   "cell_type": "markdown",
   "metadata": {},
   "source": [
    "A simplified version of the method presented in Tiger, M., & F. Heintz: ''_Online sparse Gaussian process regression for trajectory modeling_''. International Conference on Information Fusion (FUSION), pp. 782-791, 2015, is used in the exercise."
   ]
  },
  {
   "cell_type": "markdown",
   "metadata": {},
   "source": [
    "Initial imports"
   ]
  },
  {
   "cell_type": "code",
   "execution_count": 1,
   "metadata": {},
   "outputs": [],
   "source": [
    "import numpy as np\n",
    "import matplotlib.pyplot as plt\n",
    "from sklearn.gaussian_process import GaussianProcessRegressor\n",
    "from sklearn.gaussian_process.kernels import RBF, WhiteKernel\n",
    "from scipy.stats import norm\n",
    "from i80_utility import load_i80_gp_dataset, plot_road\n",
    "from scipy.interpolate import interp1d"
   ]
  },
  {
   "cell_type": "code",
   "execution_count": 2,
   "metadata": {},
   "outputs": [
    {
     "name": "stdout",
     "output_type": "stream",
     "text": [
      "Using matplotlib backend: Qt5Agg\n"
     ]
    }
   ],
   "source": [
    "%matplotlib"
   ]
  },
  {
   "cell_type": "markdown",
   "metadata": {},
   "source": [
    "# Some auxiliary functions"
   ]
  },
  {
   "cell_type": "markdown",
   "metadata": {},
   "source": [
    "Some auxiliary functions needed. You are not required to modify these."
   ]
  },
  {
   "cell_type": "code",
   "execution_count": 3,
   "metadata": {},
   "outputs": [],
   "source": [
    "def soft_max(z):\n",
    "    r = np.exp(z)\n",
    "    return r / np.sum(r)\n",
    "\n",
    "def gp_score(y_pred, y_true):\n",
    "    return 1 - np.sum((y_true - y_pred)**2) / np.sum((y_true - np.mean(y_true))**2)\n",
    "\n",
    "def predict_scenario_score(gp_x, gp_y, s, x, y, lane):\n",
    "    score = []\n",
    "    N_paths = len(s)\n",
    "    for target_lane in range(6):\n",
    "        scenario_index = [k for k in range(N_paths) if \n",
    "                          (lane[k][0] == 6 and lane[k][-1] == target_lane and\n",
    "                           np.all(np.diff(s[k]) > 1e-4))]\n",
    "        if len(scenario_index) > 0:\n",
    "            tracks_s = np.array([s[k].reshape(-1, 1) for k in scenario_index])\n",
    "            tracks_x = [x[k].reshape(-1, 1) for k in scenario_index]\n",
    "            tracks_y = [y[k].reshape(-1, 1) for k in scenario_index]\n",
    "            lane_id = [lane[k] for k in scenario_index]\n",
    "            score.append(np.mean([np.mean((gp_score(gp_x.predict(si), xi), \n",
    "                                           gp_score(gp_y.predict(si), yi)))\n",
    "                             for si, xi, yi in zip(tracks_s, tracks_x, tracks_y)]))\n",
    "        else:\n",
    "            score.append(0.0)\n",
    "    return score"
   ]
  },
  {
   "cell_type": "markdown",
   "metadata": {},
   "source": [
    "# Load driver paths from I-80 data set"
   ]
  },
  {
   "cell_type": "code",
   "execution_count": 4,
   "metadata": {},
   "outputs": [],
   "source": [
    "i80_data_dir = './'  # data downloaded in the current directory\n",
    "# i80_data_dir = '/courses/tsfs12/'  # student labs"
   ]
  },
  {
   "cell_type": "code",
   "execution_count": 5,
   "metadata": {},
   "outputs": [
    {
     "name": "stdout",
     "output_type": "stream",
     "text": [
      "Can't locate trajectory data, ensure that files\n"
     ]
    },
    {
     "ename": "NameError",
     "evalue": "name 'trajectory_files' is not defined",
     "output_type": "error",
     "traceback": [
      "\u001b[0;31m---------------------------------------------------------------------------\u001b[0m",
      "\u001b[0;31mNameError\u001b[0m                                 Traceback (most recent call last)",
      "\u001b[0;32m<ipython-input-5-629cc213fdbe>\u001b[0m in \u001b[0;36m<module>\u001b[0;34m\u001b[0m\n\u001b[0;32m----> 1\u001b[0;31m \u001b[0mtracks_s_I80\u001b[0m\u001b[0;34m,\u001b[0m \u001b[0mtracks_x_I80\u001b[0m\u001b[0;34m,\u001b[0m \u001b[0mtracks_y_I80\u001b[0m\u001b[0;34m,\u001b[0m \u001b[0mlane_id_I80\u001b[0m\u001b[0;34m,\u001b[0m \u001b[0mN_paths\u001b[0m \u001b[0;34m=\u001b[0m \u001b[0mload_i80_gp_dataset\u001b[0m\u001b[0;34m(\u001b[0m\u001b[0mi80_data_dir\u001b[0m\u001b[0;34m)\u001b[0m\u001b[0;34m\u001b[0m\u001b[0;34m\u001b[0m\u001b[0m\n\u001b[0m",
      "\u001b[0;32m/media/ubuntu/Data/project/tsfs12-master/Handin_Exercises/HI5-Learning/python/i80_utility.py\u001b[0m in \u001b[0;36mload_i80_gp_dataset\u001b[0;34m(data_dir)\u001b[0m\n\u001b[1;32m    484\u001b[0m     \u001b[0;32mif\u001b[0m \u001b[0;32mnot\u001b[0m \u001b[0mos\u001b[0m\u001b[0;34m.\u001b[0m\u001b[0mpath\u001b[0m\u001b[0;34m.\u001b[0m\u001b[0misfile\u001b[0m\u001b[0;34m(\u001b[0m\u001b[0mos\u001b[0m\u001b[0;34m.\u001b[0m\u001b[0mpath\u001b[0m\u001b[0;34m.\u001b[0m\u001b[0mjoin\u001b[0m\u001b[0;34m(\u001b[0m\u001b[0mdata_dir\u001b[0m\u001b[0;34m,\u001b[0m \u001b[0mtrajectory_file\u001b[0m\u001b[0;34m)\u001b[0m\u001b[0;34m)\u001b[0m\u001b[0;34m:\u001b[0m\u001b[0;34m\u001b[0m\u001b[0;34m\u001b[0m\u001b[0m\n\u001b[1;32m    485\u001b[0m         \u001b[0mprint\u001b[0m\u001b[0;34m(\u001b[0m\u001b[0;34m\"Can't locate trajectory data, ensure that files\"\u001b[0m\u001b[0;34m)\u001b[0m\u001b[0;34m\u001b[0m\u001b[0;34m\u001b[0m\u001b[0m\n\u001b[0;32m--> 486\u001b[0;31m         \u001b[0mprint\u001b[0m\u001b[0;34m(\u001b[0m\u001b[0mtrajectory_files\u001b[0m\u001b[0;34m)\u001b[0m\u001b[0;34m\u001b[0m\u001b[0;34m\u001b[0m\u001b[0m\n\u001b[0m\u001b[1;32m    487\u001b[0m         \u001b[0mprint\u001b[0m\u001b[0;34m(\u001b[0m\u001b[0;34m\"is located in the current directory. If you are running in a LiU Linux lab, do\\n\"\u001b[0m\u001b[0;34m)\u001b[0m\u001b[0;34m\u001b[0m\u001b[0;34m\u001b[0m\u001b[0m\n\u001b[1;32m    488\u001b[0m         \u001b[0mprint\u001b[0m\u001b[0;34m(\u001b[0m\u001b[0;34m'load_i80_trajectories(\"/courses/tsfs12/i80_data/\")'\u001b[0m\u001b[0;34m)\u001b[0m\u001b[0;34m\u001b[0m\u001b[0;34m\u001b[0m\u001b[0m\n",
      "\u001b[0;31mNameError\u001b[0m: name 'trajectory_files' is not defined"
     ]
    }
   ],
   "source": [
    "tracks_s_I80, tracks_x_I80, tracks_y_I80, lane_id_I80, N_paths = load_i80_gp_dataset(i80_data_dir)"
   ]
  },
  {
   "cell_type": "code",
   "execution_count": null,
   "metadata": {},
   "outputs": [],
   "source": [
    "colors = plt.rcParams['axes.prop_cycle'].by_key()['color']\n",
    "plt.figure(10, clear=True)\n",
    "for x, y, l in zip(tracks_x_I80, tracks_y_I80, lane_id_I80):\n",
    "    plt.plot(x, y, color=colors[l[0]], lw=0.5)\n",
    "plot_road()\n",
    "plt.xlabel('x [m]')\n",
    "_ = plt.ylabel('y [m]')"
   ]
  },
  {
   "cell_type": "markdown",
   "metadata": {},
   "source": [
    "# Extract paths corresponding to specific lane-change scenario"
   ]
  },
  {
   "cell_type": "code",
   "execution_count": null,
   "metadata": {},
   "outputs": [],
   "source": [
    "init_lane =  6  # Initial lane, the on-ramp is 6\n",
    "final_lane = 5  # Final lane (0-5), counted from left to right"
   ]
  },
  {
   "cell_type": "code",
   "execution_count": null,
   "metadata": {},
   "outputs": [],
   "source": [
    "scenario_index = [k for k in range(N_paths) if \n",
    "                  (lane_id_I80[k][0] == init_lane and lane_id_I80[k][-1] == final_lane and\n",
    "                   np.all(np.diff(tracks_s_I80[k]) > 1e-4))]\n",
    "tracks_s = [tracks_s_I80[k] for k in scenario_index]\n",
    "tracks_x = [tracks_x_I80[k] for k in scenario_index]\n",
    "tracks_y = [tracks_y_I80[k] for k in scenario_index]\n",
    "lane_id = [lane_id_I80[k] for k in scenario_index]\n",
    "N_paths_gp = len(scenario_index)\n",
    "\n",
    "if N_paths_gp == 0:\n",
    "    print(\"No paths with specified lane change exist.\")"
   ]
  },
  {
   "cell_type": "markdown",
   "metadata": {},
   "source": [
    "# Create test and traing data sets"
   ]
  },
  {
   "cell_type": "code",
   "execution_count": null,
   "metadata": {},
   "outputs": [],
   "source": [
    "rg = np.random.default_rng(seed=1891)"
   ]
  },
  {
   "cell_type": "code",
   "execution_count": null,
   "metadata": {},
   "outputs": [],
   "source": [
    "N_samples_gp = 8\n",
    "s_train = []\n",
    "x_train = []\n",
    "y_train = []\n",
    "for k in range(N_paths_gp):\n",
    "    s0 = np.hstack((0, rg.uniform(size=N_samples_gp - 2), 1))\n",
    "    s_train.append(s0)\n",
    "    x_train.append(interp1d(tracks_s[k], tracks_x[k])(s0))\n",
    "    y_train.append(interp1d(tracks_s[k], tracks_y[k])(s0))\n",
    "s_train = np.array(s_train).reshape(-1, 1)\n",
    "x_train = np.array(x_train).reshape(-1, 1)\n",
    "y_train = np.array(y_train).reshape(-1, 1)"
   ]
  },
  {
   "cell_type": "markdown",
   "metadata": {},
   "source": [
    "# Learn the gaussian process models for driver behavior"
   ]
  },
  {
   "cell_type": "code",
   "execution_count": null,
   "metadata": {},
   "outputs": [],
   "source": [
    "kernel = 1.0 * RBF(length_scale=110.0, length_scale_bounds=(1e-2, 1e3)) + WhiteKernel(noise_level=10, noise_level_bounds=(1e-10, 1e+3))\n",
    "gpr_x = GaussianProcessRegressor(kernel=kernel, random_state=1891, alpha=1e-5).fit(s_train, x_train)\n",
    "gpr_y = GaussianProcessRegressor(kernel=kernel, random_state=1891, alpha=1e-5).fit(s_train, y_train)"
   ]
  },
  {
   "cell_type": "code",
   "execution_count": null,
   "metadata": {},
   "outputs": [],
   "source": [
    "print(f\"Score for fit_x: {gp_score(gpr_x.predict(s_train), x_train):.3f}\")\n",
    "print(f\"Score for fit_y: {gp_score(gpr_y.predict(s_train), y_train):.3f}\")"
   ]
  },
  {
   "cell_type": "markdown",
   "metadata": {},
   "source": [
    "# Predict, plot, and evaluate models"
   ]
  },
  {
   "cell_type": "markdown",
   "metadata": {},
   "source": [
    "In this section, predict, plot, and evaluate your gaussian process models."
   ]
  },
  {
   "cell_type": "code",
   "execution_count": null,
   "metadata": {},
   "outputs": [],
   "source": [
    "# YOUR_CODE_HERE"
   ]
  },
  {
   "cell_type": "markdown",
   "metadata": {},
   "source": [
    "# Compute prediction of lane-change class"
   ]
  },
  {
   "cell_type": "code",
   "execution_count": null,
   "metadata": {},
   "outputs": [],
   "source": [
    "score = predict_scenario_score(gpr_x, gpr_y, tracks_s_I80, tracks_x_I80, tracks_y_I80, lane_id_I80)"
   ]
  },
  {
   "cell_type": "code",
   "execution_count": null,
   "metadata": {},
   "outputs": [],
   "source": [
    "plt.figure(30, clear=True)\n",
    "plt.bar(range(1, 7), soft_max(score))\n",
    "plt.xlabel('Target lane')\n",
    "_ = plt.ylabel('score')"
   ]
  },
  {
   "cell_type": "code",
   "execution_count": null,
   "metadata": {},
   "outputs": [],
   "source": []
  }
 ],
 "metadata": {
  "kernelspec": {
   "display_name": "Python 3",
   "language": "python",
   "name": "python3"
  },
  "language_info": {
   "codemirror_mode": {
    "name": "ipython",
    "version": 3
   },
   "file_extension": ".py",
   "mimetype": "text/x-python",
   "name": "python",
   "nbconvert_exporter": "python",
   "pygments_lexer": "ipython3",
   "version": "3.7.6"
  }
 },
 "nbformat": 4,
 "nbformat_minor": 4
}
